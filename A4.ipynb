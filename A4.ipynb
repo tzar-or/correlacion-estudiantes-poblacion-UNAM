{
 "cells": [
  {
   "cell_type": "code",
   "execution_count": 1,
   "id": "e9b80fe1-e157-4f39-aeca-5ad461ef26bd",
   "metadata": {
    "tags": []
   },
   "outputs": [],
   "source": [
    "# First we import the databases and libreries\n",
    "\n",
    "import pandas as pd\n",
    "import numpy as np\n",
    "import matplotlib.pyplot as plt\n",
    "\n",
    "dfpop = pd.read_excel(\"IndicadoresINEGI.xlsx\")"
   ]
  },
  {
   "cell_type": "code",
   "execution_count": 3,
   "id": "a2828d68-43ab-4205-a18f-7b5f634c3814",
   "metadata": {
    "tags": []
   },
   "outputs": [],
   "source": [
    "dfunam1 = pd.read_excel(\"unam_pe_desde_1924.xlsx\", sheet_name = \"población 1924-1969\")\n",
    "dfunam2 = pd.read_excel(\"unam_pe_desde_1924.xlsx\", sheet_name = \"población 1970-2024\")"
   ]
  },
  {
   "cell_type": "markdown",
   "id": "4307051e-fcc4-4cc9-bf90-3b2786546687",
   "metadata": {
    "jp-MarkdownHeadingCollapsed": true,
    "tags": []
   },
   "source": [
    "# Adjusting Dataframes\n",
    "\n",
    "A visualization of the dataframes"
   ]
  },
  {
   "cell_type": "code",
   "execution_count": 6,
   "id": "e3259124-9d7f-4d09-b44f-56f533730d9f",
   "metadata": {
    "tags": []
   },
   "outputs": [
    {
     "data": {
      "text/html": [
       "<div>\n",
       "<style scoped>\n",
       "    .dataframe tbody tr th:only-of-type {\n",
       "        vertical-align: middle;\n",
       "    }\n",
       "\n",
       "    .dataframe tbody tr th {\n",
       "        vertical-align: top;\n",
       "    }\n",
       "\n",
       "    .dataframe thead th {\n",
       "        text-align: right;\n",
       "    }\n",
       "</style>\n",
       "<table border=\"1\" class=\"dataframe\">\n",
       "  <thead>\n",
       "    <tr style=\"text-align: right;\">\n",
       "      <th></th>\n",
       "      <th>cve_entidad</th>\n",
       "      <th>desc_entidad</th>\n",
       "      <th>cve_municipio</th>\n",
       "      <th>desc_municipio</th>\n",
       "      <th>id_indicador</th>\n",
       "      <th>indicador</th>\n",
       "      <th>1900</th>\n",
       "      <th>1910</th>\n",
       "      <th>1921</th>\n",
       "      <th>1930</th>\n",
       "      <th>...</th>\n",
       "      <th>2016</th>\n",
       "      <th>2017</th>\n",
       "      <th>2018</th>\n",
       "      <th>2019</th>\n",
       "      <th>2020</th>\n",
       "      <th>2021</th>\n",
       "      <th>2030</th>\n",
       "      <th>2040</th>\n",
       "      <th>2050</th>\n",
       "      <th>unidad_medida</th>\n",
       "    </tr>\n",
       "  </thead>\n",
       "  <tbody>\n",
       "    <tr>\n",
       "      <th>0</th>\n",
       "      <td>0</td>\n",
       "      <td>Estados Unidos Mexicanos</td>\n",
       "      <td>0</td>\n",
       "      <td>Estados Unidos Mexicanos</td>\n",
       "      <td>1002000001</td>\n",
       "      <td>Población total</td>\n",
       "      <td>NaN</td>\n",
       "      <td>15160369.0</td>\n",
       "      <td>14334780.0</td>\n",
       "      <td>16552722.0</td>\n",
       "      <td>...</td>\n",
       "      <td>NaN</td>\n",
       "      <td>NaN</td>\n",
       "      <td>NaN</td>\n",
       "      <td>NaN</td>\n",
       "      <td>126014024.0</td>\n",
       "      <td>NaN</td>\n",
       "      <td>NaN</td>\n",
       "      <td>NaN</td>\n",
       "      <td>NaN</td>\n",
       "      <td>Número de personas</td>\n",
       "    </tr>\n",
       "    <tr>\n",
       "      <th>1</th>\n",
       "      <td>0</td>\n",
       "      <td>Estados Unidos Mexicanos</td>\n",
       "      <td>0</td>\n",
       "      <td>Estados Unidos Mexicanos</td>\n",
       "      <td>1002000002</td>\n",
       "      <td>Población total hombres</td>\n",
       "      <td>NaN</td>\n",
       "      <td>7504471.0</td>\n",
       "      <td>7003785.0</td>\n",
       "      <td>8119004.0</td>\n",
       "      <td>...</td>\n",
       "      <td>NaN</td>\n",
       "      <td>NaN</td>\n",
       "      <td>NaN</td>\n",
       "      <td>NaN</td>\n",
       "      <td>61473390.0</td>\n",
       "      <td>NaN</td>\n",
       "      <td>NaN</td>\n",
       "      <td>NaN</td>\n",
       "      <td>NaN</td>\n",
       "      <td>Número de personas</td>\n",
       "    </tr>\n",
       "  </tbody>\n",
       "</table>\n",
       "<p>2 rows × 51 columns</p>\n",
       "</div>"
      ],
      "text/plain": [
       "   cve_entidad              desc_entidad  cve_municipio  \\\n",
       "0            0  Estados Unidos Mexicanos              0   \n",
       "1            0  Estados Unidos Mexicanos              0   \n",
       "\n",
       "             desc_municipio  id_indicador                indicador 1900  \\\n",
       "0  Estados Unidos Mexicanos    1002000001          Población total  NaN   \n",
       "1  Estados Unidos Mexicanos    1002000002  Población total hombres  NaN   \n",
       "\n",
       "         1910        1921        1930  ...  2016  2017  2018  2019  \\\n",
       "0  15160369.0  14334780.0  16552722.0  ...   NaN   NaN   NaN   NaN   \n",
       "1   7504471.0   7003785.0   8119004.0  ...   NaN   NaN   NaN   NaN   \n",
       "\n",
       "          2020  2021  2030  2040  2050       unidad_medida  \n",
       "0  126014024.0   NaN   NaN   NaN   NaN  Número de personas  \n",
       "1   61473390.0   NaN   NaN   NaN   NaN  Número de personas  \n",
       "\n",
       "[2 rows x 51 columns]"
      ]
     },
     "execution_count": 6,
     "metadata": {},
     "output_type": "execute_result"
    }
   ],
   "source": [
    "dfpop.head(2)"
   ]
  },
  {
   "cell_type": "code",
   "execution_count": 8,
   "id": "4ae30c2c-a37e-4eae-aade-af7a502f461c",
   "metadata": {
    "tags": []
   },
   "outputs": [
    {
     "data": {
      "text/html": [
       "<div>\n",
       "<style scoped>\n",
       "    .dataframe tbody tr th:only-of-type {\n",
       "        vertical-align: middle;\n",
       "    }\n",
       "\n",
       "    .dataframe tbody tr th {\n",
       "        vertical-align: top;\n",
       "    }\n",
       "\n",
       "    .dataframe thead th {\n",
       "        text-align: right;\n",
       "    }\n",
       "</style>\n",
       "<table border=\"1\" class=\"dataframe\">\n",
       "  <thead>\n",
       "    <tr style=\"text-align: right;\">\n",
       "      <th></th>\n",
       "      <th>CUADRO I</th>\n",
       "      <th>Unnamed: 1</th>\n",
       "      <th>Unnamed: 2</th>\n",
       "      <th>Unnamed: 3</th>\n",
       "    </tr>\n",
       "  </thead>\n",
       "  <tbody>\n",
       "    <tr>\n",
       "      <th>0</th>\n",
       "      <td>NaN</td>\n",
       "      <td>NaN</td>\n",
       "      <td>NaN</td>\n",
       "      <td>NaN</td>\n",
       "    </tr>\n",
       "    <tr>\n",
       "      <th>1</th>\n",
       "      <td>UNAM. Población escolar total</td>\n",
       "      <td>NaN</td>\n",
       "      <td>NaN</td>\n",
       "      <td>NaN</td>\n",
       "    </tr>\n",
       "    <tr>\n",
       "      <th>2</th>\n",
       "      <td>1924-1969</td>\n",
       "      <td>NaN</td>\n",
       "      <td>NaN</td>\n",
       "      <td>NaN</td>\n",
       "    </tr>\n",
       "    <tr>\n",
       "      <th>3</th>\n",
       "      <td>NaN</td>\n",
       "      <td>NaN</td>\n",
       "      <td>NaN</td>\n",
       "      <td>NaN</td>\n",
       "    </tr>\n",
       "    <tr>\n",
       "      <th>4</th>\n",
       "      <td>Año</td>\n",
       "      <td>En planteles de bachillerato</td>\n",
       "      <td>En facultades y escuelas de educación superior</td>\n",
       "      <td>Total</td>\n",
       "    </tr>\n",
       "    <tr>\n",
       "      <th>5</th>\n",
       "      <td>1924</td>\n",
       "      <td>2328</td>\n",
       "      <td>7294</td>\n",
       "      <td>9622</td>\n",
       "    </tr>\n",
       "  </tbody>\n",
       "</table>\n",
       "</div>"
      ],
      "text/plain": [
       "                        CUADRO I                    Unnamed: 1  \\\n",
       "0                            NaN                           NaN   \n",
       "1  UNAM. Población escolar total                           NaN   \n",
       "2                      1924-1969                           NaN   \n",
       "3                            NaN                           NaN   \n",
       "4                            Año  En planteles de bachillerato   \n",
       "5                           1924                          2328   \n",
       "\n",
       "                                       Unnamed: 2 Unnamed: 3  \n",
       "0                                             NaN        NaN  \n",
       "1                                             NaN        NaN  \n",
       "2                                             NaN        NaN  \n",
       "3                                             NaN        NaN  \n",
       "4  En facultades y escuelas de educación superior      Total  \n",
       "5                                            7294       9622  "
      ]
     },
     "execution_count": 8,
     "metadata": {},
     "output_type": "execute_result"
    }
   ],
   "source": [
    "dfunam1.head(6)"
   ]
  },
  {
   "cell_type": "code",
   "execution_count": 10,
   "id": "3dccd94f-d047-4e38-b485-dd0103b46410",
   "metadata": {
    "tags": []
   },
   "outputs": [
    {
     "data": {
      "text/html": [
       "<div>\n",
       "<style scoped>\n",
       "    .dataframe tbody tr th:only-of-type {\n",
       "        vertical-align: middle;\n",
       "    }\n",
       "\n",
       "    .dataframe tbody tr th {\n",
       "        vertical-align: top;\n",
       "    }\n",
       "\n",
       "    .dataframe thead th {\n",
       "        text-align: right;\n",
       "    }\n",
       "</style>\n",
       "<table border=\"1\" class=\"dataframe\">\n",
       "  <thead>\n",
       "    <tr style=\"text-align: right;\">\n",
       "      <th></th>\n",
       "      <th>CUADRO II</th>\n",
       "      <th>Unnamed: 1</th>\n",
       "      <th>Unnamed: 2</th>\n",
       "      <th>Unnamed: 3</th>\n",
       "      <th>Unnamed: 4</th>\n",
       "      <th>Unnamed: 5</th>\n",
       "    </tr>\n",
       "  </thead>\n",
       "  <tbody>\n",
       "    <tr>\n",
       "      <th>0</th>\n",
       "      <td>NaN</td>\n",
       "      <td>NaN</td>\n",
       "      <td>NaN</td>\n",
       "      <td>NaN</td>\n",
       "      <td>NaN</td>\n",
       "      <td>NaN</td>\n",
       "    </tr>\n",
       "    <tr>\n",
       "      <th>1</th>\n",
       "      <td>UNAM. Población escolar totala</td>\n",
       "      <td>NaN</td>\n",
       "      <td>NaN</td>\n",
       "      <td>NaN</td>\n",
       "      <td>NaN</td>\n",
       "      <td>NaN</td>\n",
       "    </tr>\n",
       "    <tr>\n",
       "      <th>2</th>\n",
       "      <td>1970-2024</td>\n",
       "      <td>NaN</td>\n",
       "      <td>NaN</td>\n",
       "      <td>NaN</td>\n",
       "      <td>NaN</td>\n",
       "      <td>NaN</td>\n",
       "    </tr>\n",
       "    <tr>\n",
       "      <th>3</th>\n",
       "      <td>NaN</td>\n",
       "      <td>NaN</td>\n",
       "      <td>NaN</td>\n",
       "      <td>NaN</td>\n",
       "      <td>NaN</td>\n",
       "      <td>NaN</td>\n",
       "    </tr>\n",
       "    <tr>\n",
       "      <th>4</th>\n",
       "      <td>Año</td>\n",
       "      <td>Bachilleratob</td>\n",
       "      <td>Técnicoc</td>\n",
       "      <td>Licenciatura</td>\n",
       "      <td>Posgrado</td>\n",
       "      <td>Total</td>\n",
       "    </tr>\n",
       "    <tr>\n",
       "      <th>5</th>\n",
       "      <td>1970</td>\n",
       "      <td>39943</td>\n",
       "      <td>1599</td>\n",
       "      <td>61709</td>\n",
       "      <td>2930</td>\n",
       "      <td>106181</td>\n",
       "    </tr>\n",
       "  </tbody>\n",
       "</table>\n",
       "</div>"
      ],
      "text/plain": [
       "                        CUADRO II     Unnamed: 1 Unnamed: 2    Unnamed: 3  \\\n",
       "0                             NaN            NaN        NaN           NaN   \n",
       "1  UNAM. Población escolar totala            NaN        NaN           NaN   \n",
       "2                       1970-2024            NaN        NaN           NaN   \n",
       "3                             NaN            NaN        NaN           NaN   \n",
       "4                             Año  Bachilleratob   Técnicoc  Licenciatura   \n",
       "5                            1970          39943       1599         61709   \n",
       "\n",
       "  Unnamed: 4 Unnamed: 5  \n",
       "0        NaN        NaN  \n",
       "1        NaN        NaN  \n",
       "2        NaN        NaN  \n",
       "3        NaN        NaN  \n",
       "4   Posgrado      Total  \n",
       "5       2930     106181  "
      ]
     },
     "execution_count": 10,
     "metadata": {},
     "output_type": "execute_result"
    }
   ],
   "source": [
    "dfunam2.head(6)"
   ]
  },
  {
   "cell_type": "markdown",
   "id": "2d39c005-b192-47d4-9c91-dedf5be35b16",
   "metadata": {},
   "source": [
    "The information throughout the years of UNAM students is divided into two different sheets, that’s why there are two data frames that we will join. But first, let’s give them format, as we see that the columns are not well placed and labeled, and there are rows that should not be there. The \"SP\" in \"Postsecundary SP\" and \"Secondary/Technical SP\" stands for Students population"
   ]
  },
  {
   "cell_type": "code",
   "execution_count": 13,
   "id": "386adc06-bcb6-4c66-8510-3aca09f32313",
   "metadata": {
    "tags": []
   },
   "outputs": [],
   "source": [
    "# We rename the Columns of the UNAM's dataframes\n",
    "dfunam1 = dfunam1.rename(columns = {'CUADRO I':'Year', 'Unnamed: 1':'Secondary/Technical SP',\n",
    "                                  'Unnamed: 2':'Postsecondary SP', 'Unnamed: 3':'Total SP'})\n",
    "dfunam2 = dfunam2.rename(columns = {'CUADRO II':'Year', 'Unnamed: 1':'Secondary',\n",
    "                                  'Unnamed: 2':'Technical', 'Unnamed: 3':'Undergraduate',\n",
    "                                   'Unnamed: 4':'Masters, Doctoral & post', 'Unnamed: 5':'Total SP' })"
   ]
  },
  {
   "cell_type": "code",
   "execution_count": 15,
   "id": "76c761f4-d48c-42e9-814a-b5cddc5af42b",
   "metadata": {
    "tags": []
   },
   "outputs": [],
   "source": [
    "# And eliminate the data that we don't need\n",
    "dfunam1 = dfunam1.drop([i for i in range(51,54)])\n",
    "dfunam1 = dfunam1.drop([i for i in range(0,5)])\n",
    "dfunam2 = dfunam2.drop([i for i in range(60,71)])\n",
    "dfunam2 = dfunam2.drop([i for i in range(0,5)])\n",
    "\n",
    "\n",
    "# We set the year as the index\n",
    "dfunam1 = dfunam1.set_index(\"Year\")\n",
    "dfunam2 = dfunam2.set_index(\"Year\")"
   ]
  },
  {
   "cell_type": "markdown",
   "id": "b7089f70-ad6e-4fa3-98dc-7b7ca6d93f49",
   "metadata": {
    "tags": []
   },
   "source": [
    "Now we're interested in categorizing the students in those in Secondary and Technical education, and\n",
    "those in postsecondary education. For the first UNAM data set it's already done, so we focus only in do so in\n",
    "the second one."
   ]
  },
  {
   "cell_type": "code",
   "execution_count": 18,
   "id": "91b555f1-0cec-4b2d-9265-47d42f770c5b",
   "metadata": {
    "tags": []
   },
   "outputs": [],
   "source": [
    "# We sum the students in each category\n",
    "dfunam2[\"Secondary/Technical SP\"] = dfunam2[\"Secondary\"] + dfunam2['Technical']\n",
    "dfunam2[\"Postsecondary SP\"] = dfunam2[\"Undergraduate\"] + dfunam2['Masters, Doctoral & post']\n",
    "\n",
    "# We drop the colums that we don't want\n",
    "dfunam2 = dfunam2.drop(['Secondary', 'Technical', 'Undergraduate', 'Masters, Doctoral & post'], axis=1)\n",
    "\n",
    "# We rearrange the columns so Total is on the right\n",
    "dfunam2 = dfunam2[[\"Secondary/Technical SP\", \"Postsecondary SP\", \"Total SP\"]]"
   ]
  },
  {
   "cell_type": "markdown",
   "id": "7bb5a9b3-5ffb-4b80-850b-5bf1417d9254",
   "metadata": {
    "tags": []
   },
   "source": [
    "And finally join the dataframes"
   ]
  },
  {
   "cell_type": "code",
   "execution_count": 21,
   "id": "dcca3d21-de84-4f0f-b81c-8fc23a1bb780",
   "metadata": {},
   "outputs": [
    {
     "data": {
      "text/html": [
       "<div>\n",
       "<style scoped>\n",
       "    .dataframe tbody tr th:only-of-type {\n",
       "        vertical-align: middle;\n",
       "    }\n",
       "\n",
       "    .dataframe tbody tr th {\n",
       "        vertical-align: top;\n",
       "    }\n",
       "\n",
       "    .dataframe thead th {\n",
       "        text-align: right;\n",
       "    }\n",
       "</style>\n",
       "<table border=\"1\" class=\"dataframe\">\n",
       "  <thead>\n",
       "    <tr style=\"text-align: right;\">\n",
       "      <th></th>\n",
       "      <th>Secondary/Technical SP</th>\n",
       "      <th>Postsecondary SP</th>\n",
       "      <th>Total SP</th>\n",
       "    </tr>\n",
       "    <tr>\n",
       "      <th>Year</th>\n",
       "      <th></th>\n",
       "      <th></th>\n",
       "      <th></th>\n",
       "    </tr>\n",
       "  </thead>\n",
       "  <tbody>\n",
       "    <tr>\n",
       "      <th>1924</th>\n",
       "      <td>2328</td>\n",
       "      <td>7294</td>\n",
       "      <td>9622</td>\n",
       "    </tr>\n",
       "    <tr>\n",
       "      <th>1925</th>\n",
       "      <td>2810</td>\n",
       "      <td>7776</td>\n",
       "      <td>10586</td>\n",
       "    </tr>\n",
       "    <tr>\n",
       "      <th>1926</th>\n",
       "      <td>1772</td>\n",
       "      <td>8407</td>\n",
       "      <td>10179</td>\n",
       "    </tr>\n",
       "    <tr>\n",
       "      <th>1927</th>\n",
       "      <td>1479</td>\n",
       "      <td>6952</td>\n",
       "      <td>8431</td>\n",
       "    </tr>\n",
       "    <tr>\n",
       "      <th>1928</th>\n",
       "      <td>1315</td>\n",
       "      <td>7275</td>\n",
       "      <td>8590</td>\n",
       "    </tr>\n",
       "    <tr>\n",
       "      <th>...</th>\n",
       "      <td>...</td>\n",
       "      <td>...</td>\n",
       "      <td>...</td>\n",
       "    </tr>\n",
       "    <tr>\n",
       "      <th>2020</th>\n",
       "      <td>112441</td>\n",
       "      <td>248442</td>\n",
       "      <td>360883</td>\n",
       "    </tr>\n",
       "    <tr>\n",
       "      <th>2021</th>\n",
       "      <td>109563</td>\n",
       "      <td>257367</td>\n",
       "      <td>366930</td>\n",
       "    </tr>\n",
       "    <tr>\n",
       "      <th>2022</th>\n",
       "      <td>107263</td>\n",
       "      <td>262344</td>\n",
       "      <td>369607</td>\n",
       "    </tr>\n",
       "    <tr>\n",
       "      <th>2023</th>\n",
       "      <td>107530</td>\n",
       "      <td>265810</td>\n",
       "      <td>373340</td>\n",
       "    </tr>\n",
       "    <tr>\n",
       "      <th>2024</th>\n",
       "      <td>107758</td>\n",
       "      <td>265924</td>\n",
       "      <td>373682</td>\n",
       "    </tr>\n",
       "  </tbody>\n",
       "</table>\n",
       "<p>101 rows × 3 columns</p>\n",
       "</div>"
      ],
      "text/plain": [
       "     Secondary/Technical SP Postsecondary SP Total SP\n",
       "Year                                                 \n",
       "1924                   2328             7294     9622\n",
       "1925                   2810             7776    10586\n",
       "1926                   1772             8407    10179\n",
       "1927                   1479             6952     8431\n",
       "1928                   1315             7275     8590\n",
       "...                     ...              ...      ...\n",
       "2020                 112441           248442   360883\n",
       "2021                 109563           257367   366930\n",
       "2022                 107263           262344   369607\n",
       "2023                 107530           265810   373340\n",
       "2024                 107758           265924   373682\n",
       "\n",
       "[101 rows x 3 columns]"
      ]
     },
     "execution_count": 21,
     "metadata": {},
     "output_type": "execute_result"
    }
   ],
   "source": [
    "dfunam = pd.concat([dfunam1, dfunam2])\n",
    "dfunam"
   ]
  },
  {
   "cell_type": "markdown",
   "id": "e228b240-2b69-465d-8706-525152b9655f",
   "metadata": {},
   "source": [
    "Now, about the INEGI's data, we care about the populations data of two provinces.\n",
    "We filter the data as follows. The exact number for _cve_municipio_ and _id_indicador_ are provided in the information of the database."
   ]
  },
  {
   "cell_type": "code",
   "execution_count": 24,
   "id": "654f0c19-8e16-4fb6-a55b-cbb98f7ab6e3",
   "metadata": {
    "tags": []
   },
   "outputs": [],
   "source": [
    "# We filter the data\n",
    "dfpop = dfpop[(dfpop[\"desc_entidad\"] == \"Ciudad de México\") | ( dfpop[\"desc_entidad\"] == \"México\") ]\n",
    "dfpop = dfpop[ dfpop[\"cve_municipio\"] == 0 ]\n",
    "dfpop = dfpop[ dfpop[\"id_indicador\"] == 1002000001 ]\n",
    "\n",
    "# We traspose the dataframe to add the populations\n",
    "dfpop = dfpop.T"
   ]
  },
  {
   "cell_type": "markdown",
   "id": "7f781398-ef93-44a3-847f-bd7f33574043",
   "metadata": {
    "tags": []
   },
   "source": [
    "Then we remove the unwanted data, which is not going to sum"
   ]
  },
  {
   "cell_type": "code",
   "execution_count": 27,
   "id": "7c1abcae-c590-4507-a65a-1eb9629993ae",
   "metadata": {
    "tags": []
   },
   "outputs": [],
   "source": [
    "dfpop = dfpop.dropna()\n",
    "dfpop = dfpop.drop([\"cve_entidad\",\"desc_entidad\",\"desc_municipio\",\"cve_municipio\",\n",
    "                        \"id_indicador\", \"indicador\", \"unidad_medida\"])"
   ]
  },
  {
   "cell_type": "markdown",
   "id": "6e28d193-a9f7-4a73-8fcd-3a9cfb878bdd",
   "metadata": {
    "tags": []
   },
   "source": [
    "And finally for this dataframe we add the populations, but first turn the data into integers"
   ]
  },
  {
   "cell_type": "code",
   "execution_count": 29,
   "id": "e66fd99e-8181-4263-a2b3-e5bd7a58ac50",
   "metadata": {
    "tags": []
   },
   "outputs": [],
   "source": [
    "dfpop = dfpop.astype({37474:'int64', 90293:'int64'})\n",
    "dfpop[\"Total Population\"] = dfpop[37474] + dfpop[90293]\n",
    "dfpop.index.name = \"Year\"\n",
    "dfpop.index = dfpop.index.astype(int)"
   ]
  },
  {
   "cell_type": "markdown",
   "id": "bc71c209-e5eb-428e-80c6-f5e5376c2de1",
   "metadata": {},
   "source": [
    "And lastly we joint all the dataframes, and keep the columns that we want"
   ]
  },
  {
   "cell_type": "code",
   "execution_count": 129,
   "id": "a109beb5-c918-406d-9325-105f93049d32",
   "metadata": {
    "tags": []
   },
   "outputs": [],
   "source": [
    "df = pd.merge(dfpop, dfunam, how='inner', left_index=True, right_index=True)\n",
    "df = df[[\"Total Population\", \"Secondary/Technical SP\", \"Postsecondary SP\", \"Total SP\"]]"
   ]
  },
  {
   "cell_type": "markdown",
   "id": "2ff50aae-be10-43b7-b4f1-bdf9574ebcf2",
   "metadata": {
    "tags": []
   },
   "source": [
    "And we obtain the proportions"
   ]
  },
  {
   "cell_type": "code",
   "execution_count": 132,
   "id": "27705a6d-dbfb-4270-b9c2-1765b60b45e6",
   "metadata": {
    "tags": []
   },
   "outputs": [],
   "source": [
    "df[\"S/T Studens Prop\"] = df[\"Secondary/Technical SP\"]/df[\"Total Population\"]\n",
    "df[\"PostS Studens Prop\"] = df[\"Postsecondary SP\"]/df[\"Total Population\"]\n",
    "df[\"Total Studens Prop\"] = df[\"Total SP\"]/df[\"Total Population\"]"
   ]
  },
  {
   "cell_type": "markdown",
   "id": "a625b9d6-b350-4966-af26-8e1b13129ed7",
   "metadata": {},
   "source": [
    "# Making the graph\n",
    "\n",
    "To make the data easer to read, let's turn the proportions in percentages"
   ]
  },
  {
   "cell_type": "code",
   "execution_count": 134,
   "id": "c23a90a5-d5eb-4ef2-9093-2e6517912204",
   "metadata": {
    "tags": []
   },
   "outputs": [],
   "source": [
    "df[\"S/T Studens Prop\"] = 100*df[\"S/T Studens Prop\"]\n",
    "df[\"PostS Studens Prop\"] = 100*df[\"PostS Studens Prop\"]"
   ]
  },
  {
   "cell_type": "markdown",
   "id": "626c526e-eb1d-4604-aafc-446d4c6f0354",
   "metadata": {},
   "source": [
    "Then we make the graph"
   ]
  },
  {
   "cell_type": "code",
   "execution_count": 288,
   "id": "8608288e-7104-4e81-b88d-3b749c6df1e9",
   "metadata": {
    "tags": []
   },
   "outputs": [
    {
     "data": {
      "text/plain": [
       "Text(2020, 0.8981664286601336, '0.95%')"
      ]
     },
     "execution_count": 288,
     "metadata": {},
     "output_type": "execute_result"
    },
    {
     "data": {
      "image/png": "[encoded data removed]",
      "text/plain": [
       "<Figure size 640x480 with 1 Axes>"
      ]
     },
     "metadata": {},
     "output_type": "display_data"
    }
   ],
   "source": [
    "# Title set\n",
    "plt.title(\"Percentage of Mexico State and City population studying in the UNAM\")\n",
    "\n",
    "# Plot the lines\n",
    "STP = plt.plot(df.index, df[\"S/T Studens Prop\"], marker = 'v', linestyle='-' ,\n",
    "         label = 'Secondary/Technical Students')\n",
    "PSP = plt.plot(df.index, df[\"PostS Studens Prop\"],  marker = '^', linestyle='-',\n",
    "        label = 'Postsecondary Students')\n",
    "\n",
    "#Legend and axes labels\n",
    "plt.legend(loc = 4, frameon=False)\n",
    "plt.ylabel(\"Percentage\", size=12)\n",
    "plt.xlabel(\"Year\", size=12)\n",
    "\n",
    "\n",
    "ax = plt.gca()\n",
    "# Hide top and right spines\n",
    "ax.spines['top'].set_visible(False)\n",
    "ax.spines['right'].set_visible(False)\n",
    "\n",
    "#Show only left and bottom spines\n",
    "ax.spines['left'].set_visible(True)\n",
    "ax.spines['bottom'].set_visible(True)\n",
    "\n",
    "# Put the percentage of certain points\n",
    "plt.gca().text( df.index[0] + 3,  df[\"S/T Studens Prop\"][1930] - 0.02, str( round(df[\"S/T Studens Prop\"][1930], 2))+\"%\" )\n",
    "plt.gca().text( df.index[2] + 3,  df[\"S/T Studens Prop\"][1950] - 0.02, str( round(df[\"S/T Studens Prop\"][1950], 2))+\"%\" )\n",
    "plt.gca().text( df.index[4] + 3,  df[\"S/T Studens Prop\"][1970] - 0.02, str( round(df[\"S/T Studens Prop\"][1970], 2))+\"%\" )\n",
    "plt.gca().text( df.index[5] + 0.5,  df[\"S/T Studens Prop\"][1980], str( round(df[\"S/T Studens Prop\"][1980], 2))+\"%\" )\n",
    "plt.gca().text( df.index[8] - 6,  df[\"S/T Studens Prop\"][2000] - 0.05, str( round(df[\"S/T Studens Prop\"][2000], 2))+\"%\" )\n",
    "plt.gca().text( df.index[12] - 6,  df[\"S/T Studens Prop\"][2020] - 0.05, str( round(df[\"S/T Studens Prop\"][2020], 2))+\"%\" )\n",
    "\n",
    "# Put the percentage of certain points\n",
    "plt.gca().text( df.index[0] - 4,  df[\"PostS Studens Prop\"][1930] + 0.04, str( round(df[\"PostS Studens Prop\"][1930], 2))+\"%\" )\n",
    "plt.gca().text( df.index[2] - 8,  df[\"PostS Studens Prop\"][1950] + 0.02, str( round(df[\"PostS Studens Prop\"][1950], 2))+\"%\" )\n",
    "plt.gca().text( df.index[4] - 8,  df[\"PostS Studens Prop\"][1970] + 0.02, str( round(df[\"PostS Studens Prop\"][1970], 2))+\"%\" )\n",
    "plt.gca().text( df.index[5] - 8,  df[\"PostS Studens Prop\"][1980] + 0.02, str( round(df[\"PostS Studens Prop\"][1980], 2))+\"%\" )\n",
    "plt.gca().text( df.index[8] ,  df[\"PostS Studens Prop\"][2000] - 0.05, str( round(df[\"PostS Studens Prop\"][2000], 2))+\"%\" )\n",
    "plt.gca().text( df.index[12],  df[\"PostS Studens Prop\"][2020] - 0.05, str( round(df[\"PostS Studens Prop\"][2020], 2))+\"%\" )"
   ]
  },
  {
   "cell_type": "code",
   "execution_count": 224,
   "id": "b011ea00-f35e-432f-8172-f60bb2ce0211",
   "metadata": {},
   "outputs": [
    {
     "data": {
      "text/html": [
       "<div>\n",
       "<style scoped>\n",
       "    .dataframe tbody tr th:only-of-type {\n",
       "        vertical-align: middle;\n",
       "    }\n",
       "\n",
       "    .dataframe tbody tr th {\n",
       "        vertical-align: top;\n",
       "    }\n",
       "\n",
       "    .dataframe thead th {\n",
       "        text-align: right;\n",
       "    }\n",
       "</style>\n",
       "<table border=\"1\" class=\"dataframe\">\n",
       "  <thead>\n",
       "    <tr style=\"text-align: right;\">\n",
       "      <th></th>\n",
       "      <th>Total Population</th>\n",
       "      <th>Secondary/Technical SP</th>\n",
       "      <th>Postsecondary SP</th>\n",
       "      <th>Total SP</th>\n",
       "      <th>S/T Studens Prop</th>\n",
       "      <th>PostS Studens Prop</th>\n",
       "      <th>Total Studens Prop</th>\n",
       "    </tr>\n",
       "    <tr>\n",
       "      <th>Year</th>\n",
       "      <th></th>\n",
       "      <th></th>\n",
       "      <th></th>\n",
       "      <th></th>\n",
       "      <th></th>\n",
       "      <th></th>\n",
       "      <th></th>\n",
       "    </tr>\n",
       "  </thead>\n",
       "  <tbody>\n",
       "    <tr>\n",
       "      <th>1930</th>\n",
       "      <td>2219688</td>\n",
       "      <td>1528</td>\n",
       "      <td>6503</td>\n",
       "      <td>8031</td>\n",
       "      <td>0.068839</td>\n",
       "      <td>0.292969</td>\n",
       "      <td>0.003618</td>\n",
       "    </tr>\n",
       "    <tr>\n",
       "      <th>1940</th>\n",
       "      <td>2903564</td>\n",
       "      <td>4465</td>\n",
       "      <td>10670</td>\n",
       "      <td>15135</td>\n",
       "      <td>0.153777</td>\n",
       "      <td>0.367479</td>\n",
       "      <td>0.005213</td>\n",
       "    </tr>\n",
       "    <tr>\n",
       "      <th>1950</th>\n",
       "      <td>4443065</td>\n",
       "      <td>6783</td>\n",
       "      <td>17271</td>\n",
       "      <td>24054</td>\n",
       "      <td>0.152665</td>\n",
       "      <td>0.388718</td>\n",
       "      <td>0.005414</td>\n",
       "    </tr>\n",
       "    <tr>\n",
       "      <th>1960</th>\n",
       "      <td>6768727</td>\n",
       "      <td>19328</td>\n",
       "      <td>39213</td>\n",
       "      <td>58541</td>\n",
       "      <td>0.285549</td>\n",
       "      <td>0.579326</td>\n",
       "      <td>0.008649</td>\n",
       "    </tr>\n",
       "    <tr>\n",
       "      <th>1970</th>\n",
       "      <td>10707350</td>\n",
       "      <td>41542</td>\n",
       "      <td>64639</td>\n",
       "      <td>106181</td>\n",
       "      <td>0.387976</td>\n",
       "      <td>0.603688</td>\n",
       "      <td>0.009917</td>\n",
       "    </tr>\n",
       "    <tr>\n",
       "      <th>1980</th>\n",
       "      <td>16395414</td>\n",
       "      <td>125045</td>\n",
       "      <td>145799</td>\n",
       "      <td>270844</td>\n",
       "      <td>0.762683</td>\n",
       "      <td>0.889267</td>\n",
       "      <td>0.016519</td>\n",
       "    </tr>\n",
       "    <tr>\n",
       "      <th>1990</th>\n",
       "      <td>18051539</td>\n",
       "      <td>128601</td>\n",
       "      <td>147373</td>\n",
       "      <td>275974</td>\n",
       "      <td>0.71241</td>\n",
       "      <td>0.816401</td>\n",
       "      <td>0.015288</td>\n",
       "    </tr>\n",
       "    <tr>\n",
       "      <th>1995</th>\n",
       "      <td>20196971</td>\n",
       "      <td>114516</td>\n",
       "      <td>151281</td>\n",
       "      <td>265797</td>\n",
       "      <td>0.566996</td>\n",
       "      <td>0.749028</td>\n",
       "      <td>0.01316</td>\n",
       "    </tr>\n",
       "    <tr>\n",
       "      <th>2000</th>\n",
       "      <td>21701925</td>\n",
       "      <td>103784</td>\n",
       "      <td>151442</td>\n",
       "      <td>255226</td>\n",
       "      <td>0.478225</td>\n",
       "      <td>0.697827</td>\n",
       "      <td>0.011761</td>\n",
       "    </tr>\n",
       "    <tr>\n",
       "      <th>2005</th>\n",
       "      <td>22728411</td>\n",
       "      <td>109036</td>\n",
       "      <td>170018</td>\n",
       "      <td>279054</td>\n",
       "      <td>0.479734</td>\n",
       "      <td>0.748042</td>\n",
       "      <td>0.012278</td>\n",
       "    </tr>\n",
       "    <tr>\n",
       "      <th>2010</th>\n",
       "      <td>24026942</td>\n",
       "      <td>110469</td>\n",
       "      <td>204088</td>\n",
       "      <td>314557</td>\n",
       "      <td>0.459771</td>\n",
       "      <td>0.849413</td>\n",
       "      <td>0.013092</td>\n",
       "    </tr>\n",
       "    <tr>\n",
       "      <th>2015</th>\n",
       "      <td>25210748</td>\n",
       "      <td>113318</td>\n",
       "      <td>229224</td>\n",
       "      <td>342542</td>\n",
       "      <td>0.449483</td>\n",
       "      <td>0.909231</td>\n",
       "      <td>0.013587</td>\n",
       "    </tr>\n",
       "    <tr>\n",
       "      <th>2020</th>\n",
       "      <td>26202362</td>\n",
       "      <td>112441</td>\n",
       "      <td>248442</td>\n",
       "      <td>360883</td>\n",
       "      <td>0.429125</td>\n",
       "      <td>0.948166</td>\n",
       "      <td>0.013773</td>\n",
       "    </tr>\n",
       "  </tbody>\n",
       "</table>\n",
       "</div>"
      ],
      "text/plain": [
       "      Total Population Secondary/Technical SP Postsecondary SP Total SP  \\\n",
       "Year                                                                      \n",
       "1930           2219688                   1528             6503     8031   \n",
       "1940           2903564                   4465            10670    15135   \n",
       "1950           4443065                   6783            17271    24054   \n",
       "1960           6768727                  19328            39213    58541   \n",
       "1970          10707350                  41542            64639   106181   \n",
       "1980          16395414                 125045           145799   270844   \n",
       "1990          18051539                 128601           147373   275974   \n",
       "1995          20196971                 114516           151281   265797   \n",
       "2000          21701925                 103784           151442   255226   \n",
       "2005          22728411                 109036           170018   279054   \n",
       "2010          24026942                 110469           204088   314557   \n",
       "2015          25210748                 113318           229224   342542   \n",
       "2020          26202362                 112441           248442   360883   \n",
       "\n",
       "     S/T Studens Prop PostS Studens Prop Total Studens Prop  \n",
       "Year                                                         \n",
       "1930         0.068839           0.292969           0.003618  \n",
       "1940         0.153777           0.367479           0.005213  \n",
       "1950         0.152665           0.388718           0.005414  \n",
       "1960         0.285549           0.579326           0.008649  \n",
       "1970         0.387976           0.603688           0.009917  \n",
       "1980         0.762683           0.889267           0.016519  \n",
       "1990          0.71241           0.816401           0.015288  \n",
       "1995         0.566996           0.749028            0.01316  \n",
       "2000         0.478225           0.697827           0.011761  \n",
       "2005         0.479734           0.748042           0.012278  \n",
       "2010         0.459771           0.849413           0.013092  \n",
       "2015         0.449483           0.909231           0.013587  \n",
       "2020         0.429125           0.948166           0.013773  "
      ]
     },
     "execution_count": 224,
     "metadata": {},
     "output_type": "execute_result"
    }
   ],
   "source": [
    "df"
   ]
  },
  {
   "cell_type": "code",
   "execution_count": null,
   "id": "29a61504-bdf0-4d5a-8efc-f0fb5497e020",
   "metadata": {},
   "outputs": [],
   "source": []
  }
 ],
 "metadata": {
  "kernelspec": {
   "display_name": "Python 3 (ipykernel)",
   "language": "python",
   "name": "python3"
  },
  "language_info": {
   "codemirror_mode": {
    "name": "ipython",
    "version": 3
   },
   "file_extension": ".py",
   "mimetype": "text/x-python",
   "name": "python",
   "nbconvert_exporter": "python",
   "pygments_lexer": "ipython3",
   "version": "3.11.5"
  }
 },
 "nbformat": 4,
 "nbformat_minor": 5
}
